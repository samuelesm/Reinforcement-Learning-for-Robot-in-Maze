{
  "nbformat": 4,
  "nbformat_minor": 0,
  "metadata": {
    "colab": {
      "name": "Project4_pt1.ipynb",
      "provenance": []
    },
    "kernelspec": {
      "name": "python3",
      "display_name": "Python 3"
    }
  },
  "cells": [
    {
      "cell_type": "code",
      "metadata": {
        "id": "FqeyICN6gbAu",
        "colab_type": "code",
        "colab": {
          "base_uri": "https://localhost:8080/",
          "height": 138
        },
        "outputId": "ebf97cda-9081-4383-9623-7ec4a1ae9568"
      },
      "source": [
        "from google.colab import drive\n",
        "drive.mount('/gdrive')\n",
        "%cd '/gdrive/My Drive/Colab Notebooks/ECE_5424_Intelligent_Autonomous_Systems/Project_4'"
      ],
      "execution_count": 2,
      "outputs": [
        {
          "output_type": "stream",
          "text": [
            "Go to this URL in a browser: https://accounts.google.com/o/oauth2/auth?client_id=947318989803-6bn6qk8qdgf4n4g3pfee6491hc0brc4i.apps.googleusercontent.com&redirect_uri=urn%3aietf%3awg%3aoauth%3a2.0%3aoob&response_type=code&scope=email%20https%3a%2f%2fwww.googleapis.com%2fauth%2fdocs.test%20https%3a%2f%2fwww.googleapis.com%2fauth%2fdrive%20https%3a%2f%2fwww.googleapis.com%2fauth%2fdrive.photos.readonly%20https%3a%2f%2fwww.googleapis.com%2fauth%2fpeopleapi.readonly\n",
            "\n",
            "Enter your authorization code:\n",
            "··········\n",
            "Mounted at /gdrive\n",
            "/gdrive/My Drive/Colab Notebooks/ECE_5424_Intelligent_Autonomous_Systems/Project_4\n"
          ],
          "name": "stdout"
        }
      ]
    },
    {
      "cell_type": "code",
      "metadata": {
        "id": "3GaepTnIgwVL",
        "colab_type": "code",
        "colab": {}
      },
      "source": [
        "from maze import *\n",
        "import numpy as np"
      ],
      "execution_count": 0,
      "outputs": []
    },
    {
      "cell_type": "code",
      "metadata": {
        "id": "gJiyw_Q0g0-W",
        "colab_type": "code",
        "colab": {}
      },
      "source": [
        "def update_policy(weights, Q_vals, dcnt, maze):\n",
        "    diff = 1e-200 + 1\n",
        "    while True:\n",
        "        diff = 0\n",
        "        # Iterate through all states and actions to find the weighted values\n",
        "        # with the discount factor for the action with the highest value\n",
        "        for state in range (112):\n",
        "            val = weights[state]\n",
        "            next_valz = np.zeros(4)\n",
        "            for act in range(4):           \n",
        "                reward, next_state, done = maze.step(state, act)\n",
        "                next_valz[act] = dcnt * (dcnt * weights[next_state] + reward)\n",
        "                Q_vals[state, act] = next_valz[act]      \n",
        "                reward_slip, nxt_s_slip, done = maze.step(state, ACTMAP[act])\n",
        "                next_valz[act] = next_valz[act] +  (1 - dcnt) * (dcnt * weights[nxt_s_slip] + reward_slip)\n",
        "            weights[state] = np.max(next_valz)\n",
        "            \n",
        "            diff = max(diff, np.abs(val - weights[state]))\n",
        "        if (diff < 1e-200):\n",
        "            break\n",
        "            \n",
        "    return weights"
      ],
      "execution_count": 0,
      "outputs": []
    },
    {
      "cell_type": "code",
      "metadata": {
        "id": "GjBhGfJuvI9N",
        "colab_type": "code",
        "colab": {}
      },
      "source": [
        "# Initialize Values\n",
        "maze = Maze()\n",
        "ACTMAP = {0:3, 1:2, 2:0, 3:1}\n",
        "dcnt = 0.9 # Discount Factor\n",
        "\n",
        "actions = np.random.choice(4, 112)\n",
        "weights = np.zeros(112)\n",
        "maze.slip = 0 # For finding policy, so slip = 0\n",
        "Q_vals = np.zeros((112, 4))\n",
        "\n",
        "P_conv = False"
      ],
      "execution_count": 0,
      "outputs": []
    },
    {
      "cell_type": "code",
      "metadata": {
        "id": "sKJR5Fne31Ct",
        "colab_type": "code",
        "colab": {}
      },
      "source": [
        "# Keep updating the policy until the optimal policy is met\n",
        "# This is checked by checking if the new policy is different from the previous one\n",
        "# If it isn't different, we exit the while loop\n",
        "while (P_conv == False):\n",
        "    weights = update_policy(weights, Q_vals, dcnt, maze)\n",
        "    P_conv = True\n",
        "    for state in range(112):\n",
        "        prev_act = actions[state]\n",
        "        next_vals = np.zeros(112)        \n",
        "        \n",
        "        for act in range(4):\n",
        "            reward, next_state, done = maze.step(state,act)\n",
        "            next_vals[act] = weights[next_state]\n",
        "        actions[state] = np.argmax(next_vals)\n",
        "        if prev_act != actions[state]:\n",
        "            P_conv = False"
      ],
      "execution_count": 0,
      "outputs": []
    },
    {
      "cell_type": "code",
      "metadata": {
        "id": "DR1hs50hvZLs",
        "colab_type": "code",
        "colab": {
          "base_uri": "https://localhost:8080/",
          "height": 1000
        },
        "outputId": "11fee4de-ccd2-4d38-921f-b41e0de2fa50"
      },
      "source": [
        "# Save and print the Q table\n",
        "np.save('Q_table', Q_vals)\n",
        "print(Q_vals)"
      ],
      "execution_count": 7,
      "outputs": [
        {
          "output_type": "stream",
          "text": [
            "[[ 4.28644758  4.81563864  4.28644758  4.28644758]\n",
            " [ 5.57408958  6.26224879  5.57408958  5.57408958]\n",
            " [ 6.99115255  7.85425781  6.99115255  6.99115255]\n",
            " [ 6.80647131  7.64677641  6.80647131  6.80647131]\n",
            " [ 9.02102589 10.13473279  9.02102589  9.02102589]\n",
            " [ 8.69471111  9.76813224  8.69471111  8.69471111]\n",
            " [10.27902583 11.54804136 10.27902583 10.27902583]\n",
            " [13.0287919  14.63728473 13.0287919  13.0287919 ]\n",
            " [ 4.28644758  4.81563864  4.81563864  5.41016193]\n",
            " [ 5.57408958  6.26224879  6.26224879  7.03536592]\n",
            " [ 6.99115255  7.85425781  7.85425781  8.82391927]\n",
            " [ 6.80647131  7.64677641  7.64677641  8.59082288]\n",
            " [ 9.02102589 10.13473279 10.13473279 11.38593437]\n",
            " [ 8.69471111  9.76813224  9.76813224 10.97407449]\n",
            " [10.27902583 11.54804136 11.54804136 12.97372548]\n",
            " [13.0287919  14.63728473 14.63728473 16.44435691]\n",
            " [ 5.67384556  6.30427284  6.30427284  5.55314604]\n",
            " [ 8.25116441  9.16796045  9.16796045  8.13056994]\n",
            " [ 6.30427284  6.30427284  6.30427284  7.08257813]\n",
            " [ 8.33106032  9.25673369  9.25673369  8.1938169 ]\n",
            " [ 9.16796045  9.16796045  9.16796045 10.29980742]\n",
            " [10.57644869 11.75160966 11.75160966 10.41991499]\n",
            " [ 9.25673369  9.25673369  9.25673369 10.39954032]\n",
            " [11.75160966 11.75160966 11.75160966 13.20242566]\n",
            " [ 5.41016193  4.9631671   4.81563864  6.12774925]\n",
            " [ 7.03536592  7.82802191  6.26224879  7.81585673]\n",
            " [ 8.82391927  7.9569705   7.85425781 10.00961966]\n",
            " [ 8.59082288  7.73180682  7.64677641  9.74686452]\n",
            " [11.38593437 11.57138859 10.13473279 12.77099926]\n",
            " [10.97407449 10.01234628  9.76813224 12.43575719]\n",
            " [12.97372548 11.68343419 11.54804136 14.71878569]\n",
            " [16.44435691 14.83235476 14.63728473 18.65363579]\n",
            " [ 5.41016193  5.55314604  4.9631671   5.51035056]\n",
            " [ 7.03536592  8.13056994  7.82802191  8.76082792]\n",
            " [ 8.82391927  7.08257813  7.9569705   8.99550989]\n",
            " [ 8.59082288  8.1938169   7.73180682  8.59155872]\n",
            " [11.38593437 10.29980742 11.57138859 13.14124188]\n",
            " [10.97407449 10.41991499 10.01234628 11.203153  ]\n",
            " [12.97372548 10.39954032 11.68343419 13.05240608]\n",
            " [16.44435691 13.20242566 14.83235476 16.8047295 ]\n",
            " [ 4.9631671   5.55314604  6.30427284  5.55314604]\n",
            " [ 7.82802191  8.13056994  9.16796045  8.13056994]\n",
            " [ 7.9569705   7.08257813  6.30427284  7.08257813]\n",
            " [ 7.73180682  8.1938169   9.25673369  8.1938169 ]\n",
            " [11.57138859 10.29980742  9.16796045 10.29980742]\n",
            " [10.01234628 10.41991499 11.75160966 10.41991499]\n",
            " [11.68343419 10.39954032  9.25673369 10.39954032]\n",
            " [14.83235476 13.20242566 11.75160966 13.20242566]\n",
            " [ 6.95697137  6.12774925  6.19246902  6.19246902]\n",
            " [ 6.95697137  7.81585673  6.95697137  6.95697137]\n",
            " [11.36759275 10.00961966 10.11840673 10.11840673]\n",
            " [11.06919047  9.74686452  9.85279591  9.85279591]\n",
            " [11.36759275 12.77099926 11.36759275 11.36759275]\n",
            " [11.06919047 12.43575719 11.06919047 11.06919047]\n",
            " [16.6037857  14.71878569 14.77919386 14.77919386]\n",
            " [16.6037857  18.65363579 16.6037857  16.6037857 ]\n",
            " [ 6.95697137  5.51035056  5.41016193  5.47336045]\n",
            " [ 6.95697137  8.76082792  7.03536592  8.67578051]\n",
            " [11.36759275  8.99550989  8.82391927  8.90966145]\n",
            " [11.06919047  8.59155872  8.59082288  8.67578051]\n",
            " [11.36759275 13.14124188 11.38593437 14.30652777]\n",
            " [11.06919047 11.203153   10.97407449 14.10799188]\n",
            " [16.6037857  13.05240608 12.97372548 14.10799188]\n",
            " [16.6037857  16.8047295  16.44435691 21.16198782]\n",
            " [ 6.12774925  5.51035056  4.9631671   6.0763741 ]\n",
            " [ 7.81585673  8.76082792  7.82802191  9.84241161]\n",
            " [10.00961966  8.99550989  7.9569705   9.86353299]\n",
            " [ 9.74686452  8.59155872  7.73180682  7.73998281]\n",
            " [12.77099926 13.14124188 11.57138859 14.76361742]\n",
            " [12.43575719 11.203153   10.01234628 12.5576631 ]\n",
            " [14.71878569 13.05240608 11.68343419 12.5576631 ]\n",
            " [18.65363579 16.8047295  14.83235476 18.83649465]\n",
            " [ 5.47336045  6.0763741   6.12774925  4.81951259]\n",
            " [ 8.67578051  9.84241161  7.81585673  8.01098901]\n",
            " [ 8.90966145  9.86353299 10.00961966  8.02682578]\n",
            " [ 8.67578051  7.73998281  9.74686452  8.01098901]\n",
            " [14.30652777 14.76361742 12.77099926 16.02197802]\n",
            " [14.10799188 12.5576631  12.43575719 16.02197802]\n",
            " [14.10799188 12.5576631  14.71878569 16.02197802]\n",
            " [21.16198782 18.83649465 18.65363579 24.03296703]\n",
            " [ 5.47336045  6.88943525  5.51035056  6.0763741 ]\n",
            " [ 8.67578051 11.17770012  8.76082792  9.84241161]\n",
            " [ 8.90966145 11.17770012  8.99550989  9.86353299]\n",
            " [ 8.67578051  6.88943525  8.59155872  7.73998281]\n",
            " [14.30652777 16.76655018 13.14124188 14.76361742]\n",
            " [14.10799188 11.17770012 11.203153   12.5576631 ]\n",
            " [14.10799188 11.17770012 13.05240608 12.5576631 ]\n",
            " [21.16198782 16.76655018 16.8047295  18.83649465]\n",
            " [ 6.0763741   6.88943525  6.13235445  6.13235445]\n",
            " [ 9.84241161 11.17770012  9.94938143  9.94938143]\n",
            " [ 9.86353299 11.17770012  9.94938143  9.94938143]\n",
            " [ 7.73998281  6.88943525  6.88943525  6.88943525]\n",
            " [14.76361742 16.76655018 14.92407214 14.92407214]\n",
            " [12.5576631  11.17770012 11.17770012 11.17770012]\n",
            " [12.5576631  11.17770012 11.17770012 11.17770012]\n",
            " [18.83649465 16.76655018 16.76655018 16.76655018]\n",
            " [ 4.28989582  4.81951259  4.28989582  4.28989582]\n",
            " [ 9.          8.01098901  8.1         9.        ]\n",
            " [ 9.          8.02682578  8.1         9.        ]\n",
            " [ 9.          8.01098901  8.1         9.        ]\n",
            " [18.         16.02197802 16.2        18.        ]\n",
            " [18.         16.02197802 16.2        18.        ]\n",
            " [18.         16.02197802 16.2        18.        ]\n",
            " [27.         24.03296703 24.3        27.        ]\n",
            " [ 4.28989582  4.81951259  5.47336045  4.81951259]\n",
            " [ 9.          8.01098901  8.67578051  8.01098901]\n",
            " [ 9.          8.02682578  8.90966145  8.02682578]\n",
            " [ 9.          8.01098901  8.67578051  8.01098901]\n",
            " [18.         16.02197802 14.30652777 16.02197802]\n",
            " [18.         16.02197802 14.10799188 16.02197802]\n",
            " [18.         16.02197802 14.10799188 16.02197802]\n",
            " [27.         24.03296703 21.16198782 24.03296703]]\n"
          ],
          "name": "stdout"
        }
      ]
    },
    {
      "cell_type": "code",
      "metadata": {
        "id": "pRkde6syOlA4",
        "colab_type": "code",
        "colab": {
          "base_uri": "https://localhost:8080/",
          "height": 84
        },
        "outputId": "d42dc05b-8c54-41a0-dbd0-15276b7c8680"
      },
      "source": [
        "np.save('Policy', actions)\n",
        "print(actions)"
      ],
      "execution_count": 87,
      "outputs": [
        {
          "output_type": "stream",
          "text": [
            "[1 1 1 1 1 1 1 1 3 3 3 3 3 3 3 3 1 1 3 1 3 1 3 3 3 1 3 3 3 3 3 3 1 3 3 3 3\n",
            " 3 3 3 2 2 0 2 0 2 0 0 0 1 0 0 1 1 0 1 0 1 0 0 3 3 0 3 0 3 0 0 3 3 0 3 2 1\n",
            " 2 2 3 3 3 3 1 1 1 0 1 0 0 0 1 1 1 0 1 0 0 0 1 0 0 0 0 0 0 0 2 2 2 2 0 0 0\n",
            " 0]\n"
          ],
          "name": "stdout"
        }
      ]
    },
    {
      "cell_type": "code",
      "metadata": {
        "id": "e0waI0tSJxhr",
        "colab_type": "code",
        "colab": {
          "base_uri": "https://localhost:8080/",
          "height": 1000
        },
        "outputId": "338ac41e-ec04-4a4c-8614-7c7639fbd49b"
      },
      "source": [
        "# Reset the maze to show the optimal path\n",
        "initial_state = maze.reset()\n",
        "state = initial_state\n",
        "done = False\n",
        "while(done == False):\n",
        "    action = actions[state]\n",
        "    reward, state, done = maze.step(state, action)\n",
        "    position = np.floor(state/8) * 8\n",
        "    flags = state - position\n",
        "    maze.plot(state, action)"
      ],
      "execution_count": 85,
      "outputs": [
        {
          "output_type": "stream",
          "text": [
            "action:  DOWN\n",
            "SWFWG\n",
            "\u001b[1;32mO\u001b[0mOOOO\n",
            "WOOOW\n",
            "FOWFW\n",
            "action:  RIGHT\n",
            "SWFWG\n",
            "O\u001b[1;32mO\u001b[0mOOO\n",
            "WOOOW\n",
            "FOWFW\n",
            "action:  RIGHT\n",
            "SWFWG\n",
            "OO\u001b[1;32mO\u001b[0mOO\n",
            "WOOOW\n",
            "FOWFW\n",
            "action:  UP\n",
            "SW\u001b[1;32mF\u001b[0mWG\n",
            "OOOOO\n",
            "WOOOW\n",
            "FOWFW\n",
            "action:  DOWN\n",
            "SWFWG\n",
            "OO\u001b[1;32mO\u001b[0mOO\n",
            "WOOOW\n",
            "FOWFW\n",
            "action:  DOWN\n",
            "SWFWG\n",
            "OOOOO\n",
            "WO\u001b[1;32mO\u001b[0mOW\n",
            "FOWFW\n",
            "action:  RIGHT\n",
            "SWFWG\n",
            "OOOOO\n",
            "WOO\u001b[1;32mO\u001b[0mW\n",
            "FOWFW\n",
            "action:  DOWN\n",
            "SWFWG\n",
            "OOOOO\n",
            "WOOOW\n",
            "FOW\u001b[1;32mF\u001b[0mW\n",
            "action:  UP\n",
            "SWFWG\n",
            "OOOOO\n",
            "WOO\u001b[1;32mO\u001b[0mW\n",
            "FOWFW\n",
            "action:  UP\n",
            "SWFWG\n",
            "OOO\u001b[1;32mO\u001b[0mO\n",
            "WOOOW\n",
            "FOWFW\n",
            "action:  RIGHT\n",
            "SWFWG\n",
            "OOOO\u001b[1;32mO\u001b[0m\n",
            "WOOOW\n",
            "FOWFW\n",
            "action:  UP\n",
            "SWFW\u001b[1;32mG\u001b[0m\n",
            "OOOOO\n",
            "WOOOW\n",
            "FOWFW\n"
          ],
          "name": "stdout"
        }
      ]
    }
  ]
}